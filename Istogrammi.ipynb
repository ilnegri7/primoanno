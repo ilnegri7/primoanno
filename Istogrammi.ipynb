{
  "nbformat": 4,
  "nbformat_minor": 0,
  "metadata": {
    "colab": {
      "name": "Istogrammi.ipynb",
      "provenance": [],
      "toc_visible": true,
      "authorship_tag": "ABX9TyPeTATxA3ZFx9ZGwwqO1XPa",
      "include_colab_link": true
    },
    "kernelspec": {
      "name": "python3",
      "display_name": "Python 3"
    }
  },
  "cells": [
    {
      "cell_type": "markdown",
      "metadata": {
        "id": "view-in-github",
        "colab_type": "text"
      },
      "source": [
        "<a href=\"https://colab.research.google.com/github/ilnegri7/primoanno/blob/main/Istogrammi.ipynb\" target=\"_parent\"><img src=\"https://colab.research.google.com/assets/colab-badge.svg\" alt=\"Open In Colab\"/></a>"
      ]
    },
    {
      "cell_type": "markdown",
      "metadata": {
        "id": "mH20VFTUhCPK"
      },
      "source": [
        "# Esempio con istogrammi"
      ]
    },
    {
      "cell_type": "code",
      "metadata": {
        "id": "miW5FdmwGIbr"
      },
      "source": [
        "# Setup\n",
        "import numpy as np\n",
        "import matplotlib.pyplot as plt"
      ],
      "execution_count": 1,
      "outputs": []
    },
    {
      "cell_type": "markdown",
      "metadata": {
        "id": "inkWF1a_GSqr"
      },
      "source": [
        "## Generiamo dati secondo una distribuzione gaussiana"
      ]
    },
    {
      "cell_type": "code",
      "metadata": {
        "id": "EeWaMhJEfpJE"
      },
      "source": [
        "#@title Parametri dei dati { run: \"auto\" }\n",
        "np.random.seed(42)  # Ramdom seed\n",
        "mu    = 100   #@param{type:\"number\"}\n",
        "sigma = 15    #@param{type:\"number\"}\n",
        "eventi= 10000 #@param{type:\"number\"}\n",
        "x = mu + sigma * np.random.randn(eventi)"
      ],
      "execution_count": 2,
      "outputs": []
    },
    {
      "cell_type": "markdown",
      "metadata": {
        "id": "yXMjArt4Lhcy"
      },
      "source": [
        "## Creiamo l'istogramma\n",
        "In matplotlib un istogramma non è una classe, ma solo un tipo di plot. I dati non sono salvati in canali, ma in un array con tutti gli eventi. I canali sono creati sono al momento del plot"
      ]
    },
    {
      "cell_type": "code",
      "metadata": {
        "colab": {
          "base_uri": "https://localhost:8080/",
          "height": 350
        },
        "id": "JOKEe84Fgeu7",
        "outputId": "557f7f0a-b2db-459a-edea-3d6c2fa03688"
      },
      "source": [
        "#@title Parametri dell'istogramma { run: \"auto\" }\n",
        "canali = 100  #@param{type:\"integer\"}\n",
        "minimo = 40  #@param{type:\"number\"}\n",
        "massimo= 160 #@param{type:\"number\"}\n",
        "plt.figure(figsize=(8,5))\n",
        "n, bins, patches = plt.hist(x, canali, density=True, facecolor='g', alpha=0.75)\n",
        "plt.xlabel('La x')\n",
        "plt.ylabel('La y')\n",
        "plt.title('Istogramma di esempio')\n",
        "plt.xlim(minimo, massimo)\n",
        "txtx = minimo + (massimo - minimo)/10.\n",
        "txty = max(n) - (max(n) - min(n))/10.\n",
        "plt.text(txtx, txty, r'$\\mu=%5.2f$ %s $\\sigma=%5.2f$' \n",
        "        % (mu, \"\\n\", sigma))\n",
        "plt.grid(True)\n",
        "plt.show()\n",
        "\n"
      ],
      "execution_count": 3,
      "outputs": [
        {
          "output_type": "display_data",
          "data": {
            "image/png": "[encoded data removed]",
            "text/plain": [
              "<Figure size 576x360 with 1 Axes>"
            ]
          },
          "metadata": {
            "tags": [],
            "needs_background": "light"
          }
        }
      ]
    }
  ]
}