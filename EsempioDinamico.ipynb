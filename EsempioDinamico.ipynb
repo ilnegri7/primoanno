{
  "nbformat": 4,
  "nbformat_minor": 0,
  "metadata": {
    "colab": {
      "name": "EsempioDinamico",
      "provenance": [],
      "collapsed_sections": [],
      "authorship_tag": "ABX9TyNpdwS8OHmXWCUqwD/sQR5U",
      "include_colab_link": true
    },
    "kernelspec": {
      "name": "python3",
      "display_name": "Python 3"
    }
  },
  "cells": [
    {
      "cell_type": "markdown",
      "metadata": {
        "id": "view-in-github",
        "colab_type": "text"
      },
      "source": [
        "<a href=\"https://colab.research.google.com/github/ilnegri7/primoanno/blob/main/EsempioDinamico.ipynb\" target=\"_parent\"><img src=\"https://colab.research.google.com/assets/colab-badge.svg\" alt=\"Open In Colab\"/></a>"
      ]
    },
    {
      "cell_type": "markdown",
      "metadata": {
        "id": "zxpzTWyyiztl"
      },
      "source": [
        "# Esempio di come aggionare un grafico dinamicamente\n",
        "\n",
        "Prendiamo la funzione gaussiana:\n",
        "\n",
        "$g(x) = \\frac{1}{\\sigma \\sqrt{2 \\pi}}  \n",
        "e^{ -\\frac{1}{2} \\frac{ (x-\\mu)^2 }{\\sigma^2}  }   $\n",
        "\n",
        "E codifichiamola in una funzione numpy, che ha un array in input e un array in output"
      ]
    },
    {
      "cell_type": "code",
      "metadata": {
        "id": "zkn2kg0riugg"
      },
      "source": [
        "#@title Funzione numpy che codifica la gaussiana\n",
        "import numpy as np\n",
        "def gauss(x, m, s):\n",
        "  a = 1 / ( s * np.sqrt( 2 * np.pi))\n",
        "  b = -0.5 * np.power(x - m, 2 ) / s**2\n",
        "  return a * np.exp(b)"
      ],
      "execution_count": 1,
      "outputs": []
    },
    {
      "cell_type": "markdown",
      "metadata": {
        "id": "KRJbUXaBwMIi"
      },
      "source": [
        "Per cambiare parametri dinamicamente si usano i **form colab**, che sono attivvati dalla sintassi `#@` ad inizio riga. E' possibile inserire sia caselle e degli slider che modificano gli input dichiarati. Se si aggiunge la stringa `{ run: \"auto\" }` nella linea `#@title`, dopo la prima esecuzione, la cella si autoaggiorna dinamicamente.\n",
        "Maggiori informazioni [qui](https://colab.research.google.com/notebooks/forms.ipynb)."
      ]
    },
    {
      "cell_type": "code",
      "metadata": {
        "colab": {
          "base_uri": "https://localhost:8080/",
          "height": 374
        },
        "id": "_2vGAw8RmxOg",
        "outputId": "7f6c9b6b-5e34-44aa-dc75-a7c54abb26c0"
      },
      "source": [
        "#@title Sliders with autorun { run: \"auto\" }\n",
        "#@markdown After the 1st execution of the cell, the plot is automatically updated when the input change\n",
        "mu    = 0 #@param {type:\"slider\", min:-10, max:10, step:0.1}\n",
        "sigma = 2.02 #@param {type:\"slider\", min:0.01, max:5, step:0.01}\n",
        "inf   = -10. #@param {type:\"number\"}\n",
        "sup   =  10. #@param {type:\"number\"}\n",
        "step  = (sup - inf)/1000.\n",
        "\n",
        "import matplotlib.pyplot as plt\n",
        "x = np.arange(inf, sup, step)\n",
        "plt.figure(figsize=(8,6))\n",
        "#plt.plot(x, gauss(x, mu, sigma))\n",
        "plt.fill_between(x, gauss(x, mu, sigma))\n",
        "plt.grid()\n",
        "plt.show()"
      ],
      "execution_count": 2,
      "outputs": [
        {
          "output_type": "display_data",
          "data": {
            "image/png": "[encoded data removed]",
            "text/plain": [
              "<Figure size 576x432 with 1 Axes>"
            ]
          },
          "metadata": {
            "tags": [],
            "needs_background": "light"
          }
        }
      ]
    }
  ]
}